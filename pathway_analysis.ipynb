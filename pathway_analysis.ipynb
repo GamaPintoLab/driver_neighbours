{
 "cells": [
  {
   "cell_type": "markdown",
   "metadata": {},
   "source": [
    "# Imports"
   ]
  },
  {
   "cell_type": "code",
   "execution_count": 2,
   "metadata": {},
   "outputs": [],
   "source": [
    "import numpy as np\n",
    "import pandas as pd\n",
    "from IPython.display import display\n",
    "import graph_tool.all as gt"
   ]
  },
  {
   "cell_type": "markdown",
   "metadata": {},
   "source": [
    "# Directories"
   ]
  },
  {
   "cell_type": "code",
   "execution_count": 4,
   "metadata": {},
   "outputs": [],
   "source": [
    "rawdata = \"data/raw/\"\n",
    "processeddata = \"data/processed/\""
   ]
  },
  {
   "cell_type": "markdown",
   "metadata": {},
   "source": [
    "# Pathway Analysis"
   ]
  },
  {
   "cell_type": "markdown",
   "metadata": {
    "jp-MarkdownHeadingCollapsed": true
   },
   "source": [
    "## Load Data"
   ]
  },
  {
   "cell_type": "code",
   "execution_count": 5,
   "metadata": {},
   "outputs": [
    {
     "name": "stdout",
     "output_type": "stream",
     "text": [
      "signalling network: 106684\n"
     ]
    },
    {
     "data": {
      "text/html": [
       "<div>\n",
       "<style scoped>\n",
       "    .dataframe tbody tr th:only-of-type {\n",
       "        vertical-align: middle;\n",
       "    }\n",
       "\n",
       "    .dataframe tbody tr th {\n",
       "        vertical-align: top;\n",
       "    }\n",
       "\n",
       "    .dataframe thead th {\n",
       "        text-align: right;\n",
       "    }\n",
       "</style>\n",
       "<table border=\"1\" class=\"dataframe\">\n",
       "  <thead>\n",
       "    <tr style=\"text-align: right;\">\n",
       "      <th></th>\n",
       "      <th>source</th>\n",
       "      <th>target</th>\n",
       "    </tr>\n",
       "  </thead>\n",
       "  <tbody>\n",
       "    <tr>\n",
       "      <th>0</th>\n",
       "      <td>CALM1</td>\n",
       "      <td>TRPC1</td>\n",
       "    </tr>\n",
       "    <tr>\n",
       "      <th>1</th>\n",
       "      <td>CALM3</td>\n",
       "      <td>TRPC1</td>\n",
       "    </tr>\n",
       "    <tr>\n",
       "      <th>2</th>\n",
       "      <td>CALM2</td>\n",
       "      <td>TRPC1</td>\n",
       "    </tr>\n",
       "    <tr>\n",
       "      <th>3</th>\n",
       "      <td>CAV1</td>\n",
       "      <td>TRPC1</td>\n",
       "    </tr>\n",
       "    <tr>\n",
       "      <th>4</th>\n",
       "      <td>DRD2</td>\n",
       "      <td>TRPC1</td>\n",
       "    </tr>\n",
       "  </tbody>\n",
       "</table>\n",
       "</div>"
      ],
      "text/plain": [
       "  source target\n",
       "0  CALM1  TRPC1\n",
       "1  CALM3  TRPC1\n",
       "2  CALM2  TRPC1\n",
       "3   CAV1  TRPC1\n",
       "4   DRD2  TRPC1"
      ]
     },
     "metadata": {},
     "output_type": "display_data"
    },
    {
     "name": "stdout",
     "output_type": "stream",
     "text": [
      "TF-regulatory network: 47306\n"
     ]
    },
    {
     "data": {
      "text/html": [
       "<div>\n",
       "<style scoped>\n",
       "    .dataframe tbody tr th:only-of-type {\n",
       "        vertical-align: middle;\n",
       "    }\n",
       "\n",
       "    .dataframe tbody tr th {\n",
       "        vertical-align: top;\n",
       "    }\n",
       "\n",
       "    .dataframe thead th {\n",
       "        text-align: right;\n",
       "    }\n",
       "</style>\n",
       "<table border=\"1\" class=\"dataframe\">\n",
       "  <thead>\n",
       "    <tr style=\"text-align: right;\">\n",
       "      <th></th>\n",
       "      <th>TF</th>\n",
       "      <th>gene</th>\n",
       "    </tr>\n",
       "  </thead>\n",
       "  <tbody>\n",
       "    <tr>\n",
       "      <th>0</th>\n",
       "      <td>MYC</td>\n",
       "      <td>TERT</td>\n",
       "    </tr>\n",
       "    <tr>\n",
       "      <th>1</th>\n",
       "      <td>SMAD3</td>\n",
       "      <td>JUN</td>\n",
       "    </tr>\n",
       "    <tr>\n",
       "      <th>2</th>\n",
       "      <td>SMAD4</td>\n",
       "      <td>JUN</td>\n",
       "    </tr>\n",
       "    <tr>\n",
       "      <th>3</th>\n",
       "      <td>RELA</td>\n",
       "      <td>FAS</td>\n",
       "    </tr>\n",
       "    <tr>\n",
       "      <th>4</th>\n",
       "      <td>SP1</td>\n",
       "      <td>ALDOA</td>\n",
       "    </tr>\n",
       "  </tbody>\n",
       "</table>\n",
       "</div>"
      ],
      "text/plain": [
       "      TF   gene\n",
       "0    MYC   TERT\n",
       "1  SMAD3    JUN\n",
       "2  SMAD4    JUN\n",
       "3   RELA    FAS\n",
       "4    SP1  ALDOA"
      ]
     },
     "execution_count": 5,
     "metadata": {},
     "output_type": "execute_result"
    }
   ],
   "source": [
    "signalling = (\n",
    "    pd.read_csv(processeddata+\"omnipath_graph.csv\")\n",
    "    .rename(columns={\n",
    "      f\"{pd.read_csv(processeddata+'omnipath_graph.csv').columns[0]}\": \"source\",\n",
    "      f\"{pd.read_csv(processeddata+'omnipath_graph.csv').columns[1]}\": \"target\"\n",
    "    })\n",
    "    # simplify the graph by removing self-loops\n",
    "    [lambda x: x.source != x.target]\n",
    " )\n",
    "tf_reg = pd.read_csv(processeddata+\"dorothea_graph.csv\")\n",
    "print(\"signalling network:\", len(signalling))\n",
    "display(signalling.head())\n",
    "print(\"TF-regulatory network:\", len(tf_reg))\n",
    "tf_reg.head()"
   ]
  },
  {
   "cell_type": "code",
   "execution_count": 6,
   "metadata": {},
   "outputs": [
    {
     "name": "stdout",
     "output_type": "stream",
     "text": [
      "456493\n"
     ]
    },
    {
     "data": {
      "text/html": [
       "<div>\n",
       "<style scoped>\n",
       "    .dataframe tbody tr th:only-of-type {\n",
       "        vertical-align: middle;\n",
       "    }\n",
       "\n",
       "    .dataframe tbody tr th {\n",
       "        vertical-align: top;\n",
       "    }\n",
       "\n",
       "    .dataframe thead th {\n",
       "        text-align: right;\n",
       "    }\n",
       "</style>\n",
       "<table border=\"1\" class=\"dataframe\">\n",
       "  <thead>\n",
       "    <tr style=\"text-align: right;\">\n",
       "      <th></th>\n",
       "      <th>driver</th>\n",
       "      <th>neighbour</th>\n",
       "      <th>distance</th>\n",
       "    </tr>\n",
       "  </thead>\n",
       "  <tbody>\n",
       "    <tr>\n",
       "      <th>0</th>\n",
       "      <td>A1CF</td>\n",
       "      <td>APOB</td>\n",
       "      <td>0</td>\n",
       "    </tr>\n",
       "    <tr>\n",
       "      <th>1</th>\n",
       "      <td>A1CF</td>\n",
       "      <td>APOBEC1</td>\n",
       "      <td>0</td>\n",
       "    </tr>\n",
       "    <tr>\n",
       "      <th>2</th>\n",
       "      <td>A1CF</td>\n",
       "      <td>APOBEC2</td>\n",
       "      <td>0</td>\n",
       "    </tr>\n",
       "    <tr>\n",
       "      <th>3</th>\n",
       "      <td>A1CF</td>\n",
       "      <td>APOBEC3A</td>\n",
       "      <td>0</td>\n",
       "    </tr>\n",
       "    <tr>\n",
       "      <th>4</th>\n",
       "      <td>A1CF</td>\n",
       "      <td>APOBEC3B</td>\n",
       "      <td>0</td>\n",
       "    </tr>\n",
       "  </tbody>\n",
       "</table>\n",
       "</div>"
      ],
      "text/plain": [
       "  driver neighbour  distance\n",
       "0   A1CF      APOB         0\n",
       "1   A1CF   APOBEC1         0\n",
       "2   A1CF   APOBEC2         0\n",
       "3   A1CF  APOBEC3A         0\n",
       "4   A1CF  APOBEC3B         0"
      ]
     },
     "execution_count": 6,
     "metadata": {},
     "output_type": "execute_result"
    }
   ],
   "source": [
    "main_graph = (\n",
    "    pd.read_csv(processeddata+\"main_graph.csv\")\n",
    "    # add column indicating that the driver is a TF of its neighbour\n",
    "    .merge(tf_reg, left_on=[\"driver\", \"neighbour\"], right_on=[\"TF\", \"gene\"], how=\"left\")\n",
    "    .assign(distance=lambda x: x.TF.notna().astype(int))\n",
    "    .drop(columns=[\"TF\"])\n",
    "    .drop(columns=[\"gene\"])\n",
    ")\n",
    "drivers = main_graph.driver.unique()\n",
    "neighbours = main_graph.neighbour.unique()\n",
    "tf_list = tf_reg.loc[tf_reg.gene.isin(neighbours), \"TF\"].unique()\n",
    "print(len(main_graph))\n",
    "main_graph.head()"
   ]
  },
  {
   "cell_type": "code",
   "execution_count": 7,
   "metadata": {},
   "outputs": [
    {
     "name": "stdout",
     "output_type": "stream",
     "text": [
      "# drivers: 3081\n",
      "# Drivers in signalling network (outgoing edges): 1756\n",
      "# neighbours: 15465\n",
      "# Neighbours regulated by a TF: 10079\n",
      "# TFs regulating neighbours: 624\n",
      "# TF-gene interactions in main graph: 3283\n",
      "Median TF degree: 10.0\n",
      "Max TF degree: {'CTCF': 2266}\n"
     ]
    }
   ],
   "source": [
    "print(\"# drivers:\", len(drivers))\n",
    "print(\"# Drivers in signalling network (outgoing edges):\",\n",
    "     len(set(signalling.source) & set(drivers)))\n",
    "print(\"# neighbours:\", len(neighbours))\n",
    "print(\"# Neighbours regulated by a TF:\", len(set(tf_reg.gene) & set(neighbours)))\n",
    "print(\"# TFs regulating neighbours:\", len(tf_list))\n",
    "print(\"# TF-gene interactions in main graph:\", main_graph.distance.sum())\n",
    "print(\"Median TF degree:\", tf_reg.groupby(\"TF\").size().median())\n",
    "print(\"Max TF degree:\", tf_reg.groupby(\"TF\").size()[lambda x: x==x.max()].to_dict())"
   ]
  },
  {
   "cell_type": "markdown",
   "metadata": {
    "jp-MarkdownHeadingCollapsed": true
   },
   "source": [
    "## Network Construction"
   ]
  },
  {
   "cell_type": "code",
   "execution_count": 8,
   "metadata": {},
   "outputs": [
    {
     "data": {
      "text/html": [
       "<div>\n",
       "<style scoped>\n",
       "    .dataframe tbody tr th:only-of-type {\n",
       "        vertical-align: middle;\n",
       "    }\n",
       "\n",
       "    .dataframe tbody tr th {\n",
       "        vertical-align: top;\n",
       "    }\n",
       "\n",
       "    .dataframe thead th {\n",
       "        text-align: right;\n",
       "    }\n",
       "</style>\n",
       "<table border=\"1\" class=\"dataframe\">\n",
       "  <thead>\n",
       "    <tr style=\"text-align: right;\">\n",
       "      <th></th>\n",
       "      <th>id</th>\n",
       "      <th>symbol</th>\n",
       "      <th>driver</th>\n",
       "      <th>TF</th>\n",
       "    </tr>\n",
       "  </thead>\n",
       "  <tbody>\n",
       "    <tr>\n",
       "      <th>0</th>\n",
       "      <td>0</td>\n",
       "      <td>A1BG</td>\n",
       "      <td>False</td>\n",
       "      <td>False</td>\n",
       "    </tr>\n",
       "    <tr>\n",
       "      <th>1</th>\n",
       "      <td>1</td>\n",
       "      <td>A2M</td>\n",
       "      <td>False</td>\n",
       "      <td>False</td>\n",
       "    </tr>\n",
       "  </tbody>\n",
       "</table>\n",
       "</div>"
      ],
      "text/plain": [
       "   id symbol  driver     TF\n",
       "0   0   A1BG   False  False\n",
       "1   1    A2M   False  False"
      ]
     },
     "metadata": {},
     "output_type": "display_data"
    },
    {
     "data": {
      "text/html": [
       "<div>\n",
       "<style scoped>\n",
       "    .dataframe tbody tr th:only-of-type {\n",
       "        vertical-align: middle;\n",
       "    }\n",
       "\n",
       "    .dataframe tbody tr th {\n",
       "        vertical-align: top;\n",
       "    }\n",
       "\n",
       "    .dataframe thead th {\n",
       "        text-align: right;\n",
       "    }\n",
       "</style>\n",
       "<table border=\"1\" class=\"dataframe\">\n",
       "  <thead>\n",
       "    <tr style=\"text-align: right;\">\n",
       "      <th></th>\n",
       "      <th>source</th>\n",
       "      <th>target</th>\n",
       "      <th>id_source</th>\n",
       "      <th>id_target</th>\n",
       "    </tr>\n",
       "  </thead>\n",
       "  <tbody>\n",
       "    <tr>\n",
       "      <th>0</th>\n",
       "      <td>CALM1</td>\n",
       "      <td>TRPC1</td>\n",
       "      <td>1068</td>\n",
       "      <td>9628</td>\n",
       "    </tr>\n",
       "    <tr>\n",
       "      <th>1</th>\n",
       "      <td>CALM3</td>\n",
       "      <td>TRPC1</td>\n",
       "      <td>1070</td>\n",
       "      <td>9628</td>\n",
       "    </tr>\n",
       "  </tbody>\n",
       "</table>\n",
       "</div>"
      ],
      "text/plain": [
       "  source target  id_source  id_target\n",
       "0  CALM1  TRPC1       1068       9628\n",
       "1  CALM3  TRPC1       1070       9628"
      ]
     },
     "metadata": {},
     "output_type": "display_data"
    }
   ],
   "source": [
    "node_list = (\n",
    "    pd.concat([\n",
    "      signalling.source.drop_duplicates().rename(\"name\"),\n",
    "      signalling.target.drop_duplicates().rename(\"name\")\n",
    "    ], ignore_index=True)\n",
    "    .drop_duplicates()\n",
    "    .sort_values()\n",
    "    .reset_index(drop=True)\n",
    "    .rename_axis(\"id\")\n",
    "    .reset_index(name=\"symbol\")\n",
    "    .assign(driver=lambda x: x.symbol.isin(drivers).astype(bool))\n",
    "    .assign(TF=lambda x: x.symbol.isin(tf_list).astype(bool))\n",
    ")\n",
    "edge_list = (\n",
    "    signalling\n",
    "    .merge(node_list, left_on=\"source\", right_on=\"symbol\", suffixes=(\"_source\", \"_target\"),)\n",
    "    .drop(columns=\"symbol\")\n",
    "    .merge(node_list, left_on=\"target\", right_on=\"symbol\", suffixes=(\"_source\", \"_target\"),)\n",
    "    .drop(columns=\"symbol\")\n",
    "    [[\"source\", \"target\", \"id_source\", \"id_target\"]]\n",
    ")\n",
    "display(node_list.head(2))\n",
    "display(edge_list.head(2))"
   ]
  },
  {
   "cell_type": "code",
   "execution_count": 9,
   "metadata": {},
   "outputs": [
    {
     "name": "stdout",
     "output_type": "stream",
     "text": [
      "# Nodes: 10408\n",
      "# Edges: 106684\n",
      "# Drivers: 2256\n",
      "Driver %: 73.22297955209348\n",
      "# TFs regulating neighbours in signalling network: 547\n",
      "TFs %: 87.66025641025641\n"
     ]
    }
   ],
   "source": [
    "print(\"# Nodes:\", len(node_list))\n",
    "print(\"# Edges:\", len(edge_list))\n",
    "print(\"# Drivers:\", node_list.driver.sum())\n",
    "print(\"Driver %:\", node_list.driver.sum() / len(drivers) * 100)\n",
    "print(\"# TFs regulating neighbours in signalling network:\", node_list.TF.sum())\n",
    "print(\"TFs %:\", node_list.TF.sum() / len(tf_list) * 100)"
   ]
  },
  {
   "cell_type": "markdown",
   "metadata": {
    "jp-MarkdownHeadingCollapsed": true
   },
   "source": [
    "## Shortest Path Calculation"
   ]
  },
  {
   "cell_type": "code",
   "execution_count": 10,
   "metadata": {},
   "outputs": [
    {
     "name": "stdout",
     "output_type": "stream",
     "text": [
      "(10408, 10408)\n"
     ]
    }
   ],
   "source": [
    "graph = gt.Graph(\n",
    "  g=edge_list[[\"id_source\", \"id_target\"]].to_numpy(),\n",
    "  directed=True,\n",
    ")\n",
    "distances = gt.shortest_distance(graph).get_2d_array()\n",
    "print(distances.shape)"
   ]
  },
  {
   "cell_type": "markdown",
   "metadata": {},
   "source": [
    "The array of distances is a 2D array where each column represents the vector of distances for each other node. See [documentation](https://graph-tool.skewed.de/static/docs/stable/autosummary/graph_tool.VertexPropertyMap.html#graph_tool.VertexPropertyMap.get_2d_array)."
   ]
  },
  {
   "cell_type": "code",
   "execution_count": 11,
   "metadata": {},
   "outputs": [
    {
     "name": "stdout",
     "output_type": "stream",
     "text": [
      "270378\n"
     ]
    },
    {
     "data": {
      "text/html": [
       "<div>\n",
       "<style scoped>\n",
       "    .dataframe tbody tr th:only-of-type {\n",
       "        vertical-align: middle;\n",
       "    }\n",
       "\n",
       "    .dataframe tbody tr th {\n",
       "        vertical-align: top;\n",
       "    }\n",
       "\n",
       "    .dataframe thead th {\n",
       "        text-align: right;\n",
       "    }\n",
       "</style>\n",
       "<table border=\"1\" class=\"dataframe\">\n",
       "  <thead>\n",
       "    <tr style=\"text-align: right;\">\n",
       "      <th></th>\n",
       "      <th>driver</th>\n",
       "      <th>neighbour</th>\n",
       "      <th>distance</th>\n",
       "      <th>TF</th>\n",
       "    </tr>\n",
       "  </thead>\n",
       "  <tbody>\n",
       "    <tr>\n",
       "      <th>166</th>\n",
       "      <td>ABCA7</td>\n",
       "      <td>ADRB2</td>\n",
       "      <td>5.0</td>\n",
       "      <td>SPI1,TP53</td>\n",
       "    </tr>\n",
       "    <tr>\n",
       "      <th>169</th>\n",
       "      <td>ABCA7</td>\n",
       "      <td>APOA1</td>\n",
       "      <td>5.0</td>\n",
       "      <td>CEBPA,E2F4,EGR1,ESR1,GATA6,HNF4A,PPARA,PPARG,R...</td>\n",
       "    </tr>\n",
       "    <tr>\n",
       "      <th>173</th>\n",
       "      <td>ABCA7</td>\n",
       "      <td>HNRNPD</td>\n",
       "      <td>5.0</td>\n",
       "      <td>E2F4,ETS1,MITF,MYC</td>\n",
       "    </tr>\n",
       "    <tr>\n",
       "      <th>176</th>\n",
       "      <td>ABCA7</td>\n",
       "      <td>LLGL2</td>\n",
       "      <td>5.0</td>\n",
       "      <td>ESR1,SOX9</td>\n",
       "    </tr>\n",
       "    <tr>\n",
       "      <th>179</th>\n",
       "      <td>ABCA7</td>\n",
       "      <td>SNX27</td>\n",
       "      <td>5.0</td>\n",
       "      <td>CEBPA,HNF4A</td>\n",
       "    </tr>\n",
       "  </tbody>\n",
       "</table>\n",
       "</div>"
      ],
      "text/plain": [
       "    driver neighbour  distance  \\\n",
       "166  ABCA7     ADRB2       5.0   \n",
       "169  ABCA7     APOA1       5.0   \n",
       "173  ABCA7    HNRNPD       5.0   \n",
       "176  ABCA7     LLGL2       5.0   \n",
       "179  ABCA7     SNX27       5.0   \n",
       "\n",
       "                                                    TF  \n",
       "166                                          SPI1,TP53  \n",
       "169  CEBPA,E2F4,EGR1,ESR1,GATA6,HNF4A,PPARA,PPARG,R...  \n",
       "173                                 E2F4,ETS1,MITF,MYC  \n",
       "176                                          ESR1,SOX9  \n",
       "179                                        CEBPA,HNF4A  "
      ]
     },
     "execution_count": 11,
     "metadata": {},
     "output_type": "execute_result"
    }
   ],
   "source": [
    "column = \"driver\"\n",
    "index = \"TF\"\n",
    "distances_results = (\n",
    "    pd.DataFrame(\n",
    "        data=distances[np.ix_(node_list.TF, node_list.driver)],\n",
    "        columns=node_list.loc[node_list.driver, \"symbol\"],\n",
    "        index=node_list.loc[node_list.TF, \"symbol\"]\n",
    "    )\n",
    "    .rename_axis(index, axis=0)\n",
    "    .rename_axis(column, axis=1)\n",
    "    .reset_index()\n",
    "    .melt(id_vars=index, var_name=column, value_name=\"distance\")\n",
    "    # max distance means no shortest path found\n",
    "    .assign(\n",
    "        distance=lambda x: x.distance.where(x.distance != x.distance.max())\n",
    "    )\n",
    "    # drop rows with no shortest path found\n",
    "    .dropna()\n",
    "    .merge(tf_reg[tf_reg.gene.isin(neighbours)], on=\"TF\", how=\"inner\")\n",
    "    .rename(columns={\"gene\": \"neighbour\"})\n",
    "    # keep only paths where the driver connects to a TF of its neighbour\n",
    "    # this greatly reduces the number of paths\n",
    "    .merge(main_graph[[\"driver\", \"neighbour\"]], how=\"inner\")\n",
    "    # pivot the table to have distances for each driver-TF pair\n",
    "    .pivot_table(\n",
    "        index=[\"driver\", \"neighbour\"],\n",
    "        columns=\"TF\",\n",
    "        values=\"distance\",\n",
    "    )\n",
    "    # calculate the minimum distance for each driver-TF pair\n",
    "    .assign(min_distance=lambda x: x.min(axis=1))\n",
    "    .reset_index()\n",
    "    .set_index([\"driver\", \"neighbour\", \"min_distance\"])\n",
    "    # stack the distances to have a long format\n",
    "    .stack()\n",
    "    .reset_index(level=\"min_distance\", name=\"distance\")\n",
    "    # filter the distances to keep only the minimum distance for each driver-TF pair\n",
    "    [lambda x: x.distance == x.min_distance]\n",
    "    .reset_index()\n",
    "    .drop(columns=[\"min_distance\"])\n",
    "    .groupby([\"driver\", \"neighbour\", \"distance\"], as_index=False)\n",
    "    # concatenate the TFs with shortest path to neighbour for each driver-neighbour pair\n",
    "    # We will have 1 row per driver-neighbour pair\n",
    "    .agg(lambda x: x.str.cat(sep=\",\"))\n",
    "    # 0 values indicate that the driver is a TF of its neighbour\n",
    "    # So their shortest path is 1\n",
    "    .assign(distance=lambda x: x.distance + 1)\n",
    "    # add drivers which are TFs of their neighbours but where\n",
    "    # not present in the signalling network\n",
    "    .merge(main_graph, how=\"outer\")\n",
    "    # remove interactions without a shortest path\n",
    "    [lambda x: x.distance > 0]\n",
    ")\n",
    "print(len(distances_results))\n",
    "distances_results.head()"
   ]
  },
  {
   "cell_type": "code",
   "execution_count": 12,
   "metadata": {},
   "outputs": [
    {
     "name": "stdout",
     "output_type": "stream",
     "text": [
      "1\n",
      "0\n",
      "<class 'pandas.core.frame.DataFrame'>\n",
      "Index: 270378 entries, 166 to 723586\n",
      "Data columns (total 4 columns):\n",
      " #   Column     Non-Null Count   Dtype  \n",
      "---  ------     --------------   -----  \n",
      " 0   driver     270378 non-null  object \n",
      " 1   neighbour  270378 non-null  object \n",
      " 2   distance   270378 non-null  float64\n",
      " 3   TF         270378 non-null  object \n",
      "dtypes: float64(1), object(3)\n",
      "memory usage: 10.3+ MB\n"
     ]
    }
   ],
   "source": [
    "print(distances_results[distances_results.TF.isna()].shape[0])\n",
    "fill_TF = distances_results.driver\n",
    "distances_results = distances_results.fillna({\"TF\": fill_TF})\n",
    "print(distances_results[distances_results.TF.isna()].shape[0])\n",
    "distances_results.info()"
   ]
  },
  {
   "cell_type": "code",
   "execution_count": 13,
   "metadata": {},
   "outputs": [
    {
     "name": "stdout",
     "output_type": "stream",
     "text": [
      "456493\n"
     ]
    },
    {
     "data": {
      "text/html": [
       "<div>\n",
       "<style scoped>\n",
       "    .dataframe tbody tr th:only-of-type {\n",
       "        vertical-align: middle;\n",
       "    }\n",
       "\n",
       "    .dataframe tbody tr th {\n",
       "        vertical-align: top;\n",
       "    }\n",
       "\n",
       "    .dataframe thead th {\n",
       "        text-align: right;\n",
       "    }\n",
       "</style>\n",
       "<table border=\"1\" class=\"dataframe\">\n",
       "  <thead>\n",
       "    <tr style=\"text-align: right;\">\n",
       "      <th></th>\n",
       "      <th>driver</th>\n",
       "      <th>neighbour</th>\n",
       "      <th>driver_present</th>\n",
       "      <th>neighbour_present</th>\n",
       "      <th>distance</th>\n",
       "      <th>TF</th>\n",
       "    </tr>\n",
       "  </thead>\n",
       "  <tbody>\n",
       "    <tr>\n",
       "      <th>0</th>\n",
       "      <td>A1CF</td>\n",
       "      <td>APOB</td>\n",
       "      <td>False</td>\n",
       "      <td>True</td>\n",
       "      <td>NaN</td>\n",
       "      <td>NaN</td>\n",
       "    </tr>\n",
       "    <tr>\n",
       "      <th>1</th>\n",
       "      <td>A1CF</td>\n",
       "      <td>APOBEC1</td>\n",
       "      <td>False</td>\n",
       "      <td>True</td>\n",
       "      <td>NaN</td>\n",
       "      <td>NaN</td>\n",
       "    </tr>\n",
       "    <tr>\n",
       "      <th>2</th>\n",
       "      <td>A1CF</td>\n",
       "      <td>APOBEC2</td>\n",
       "      <td>False</td>\n",
       "      <td>False</td>\n",
       "      <td>NaN</td>\n",
       "      <td>NaN</td>\n",
       "    </tr>\n",
       "    <tr>\n",
       "      <th>3</th>\n",
       "      <td>A1CF</td>\n",
       "      <td>APOBEC3A</td>\n",
       "      <td>False</td>\n",
       "      <td>False</td>\n",
       "      <td>NaN</td>\n",
       "      <td>NaN</td>\n",
       "    </tr>\n",
       "    <tr>\n",
       "      <th>4</th>\n",
       "      <td>A1CF</td>\n",
       "      <td>APOBEC3B</td>\n",
       "      <td>False</td>\n",
       "      <td>False</td>\n",
       "      <td>NaN</td>\n",
       "      <td>NaN</td>\n",
       "    </tr>\n",
       "  </tbody>\n",
       "</table>\n",
       "</div>"
      ],
      "text/plain": [
       "  driver neighbour  driver_present  neighbour_present  distance   TF\n",
       "0   A1CF      APOB           False               True       NaN  NaN\n",
       "1   A1CF   APOBEC1           False               True       NaN  NaN\n",
       "2   A1CF   APOBEC2           False              False       NaN  NaN\n",
       "3   A1CF  APOBEC3A           False              False       NaN  NaN\n",
       "4   A1CF  APOBEC3B           False              False       NaN  NaN"
      ]
     },
     "execution_count": 13,
     "metadata": {},
     "output_type": "execute_result"
    }
   ],
   "source": [
    "neighbours_with_TF = tf_reg.loc[\n",
    "    (tf_reg.TF.isin(node_list.symbol)) &\n",
    "    (tf_reg.gene.isin(neighbours)),\n",
    "    \"gene\"]\n",
    "distances_results = (\n",
    "    main_graph\n",
    "    .assign(\n",
    "      driver_present=lambda x: x.driver.isin(node_list.symbol),\n",
    "      neighbour_present=lambda x: x.neighbour.isin(neighbours_with_TF)\n",
    "    )\n",
    "    [[\"driver\", \"neighbour\", \"driver_present\", \"neighbour_present\"]]\n",
    "    .merge(distances_results, on=[\"driver\", \"neighbour\"], how=\"left\")\n",
    ")\n",
    "print(distances_results.shape[0])\n",
    "distances_results.head()"
   ]
  },
  {
   "cell_type": "code",
   "execution_count": 14,
   "metadata": {},
   "outputs": [
    {
     "data": {
      "text/html": [
       "<div>\n",
       "<style scoped>\n",
       "    .dataframe tbody tr th:only-of-type {\n",
       "        vertical-align: middle;\n",
       "    }\n",
       "\n",
       "    .dataframe tbody tr th {\n",
       "        vertical-align: top;\n",
       "    }\n",
       "\n",
       "    .dataframe thead th {\n",
       "        text-align: right;\n",
       "    }\n",
       "</style>\n",
       "<table border=\"1\" class=\"dataframe\">\n",
       "  <thead>\n",
       "    <tr style=\"text-align: right;\">\n",
       "      <th></th>\n",
       "      <th>driver</th>\n",
       "      <th>neighbour</th>\n",
       "      <th>driver_present</th>\n",
       "      <th>neighbour_present</th>\n",
       "      <th>distance</th>\n",
       "      <th>TF</th>\n",
       "      <th>n_shortest_paths</th>\n",
       "    </tr>\n",
       "  </thead>\n",
       "  <tbody>\n",
       "    <tr>\n",
       "      <th>165</th>\n",
       "      <td>ABCA7</td>\n",
       "      <td>ADRB2</td>\n",
       "      <td>True</td>\n",
       "      <td>True</td>\n",
       "      <td>5.0</td>\n",
       "      <td>SPI1,TP53</td>\n",
       "      <td>2.0</td>\n",
       "    </tr>\n",
       "    <tr>\n",
       "      <th>167</th>\n",
       "      <td>ABCA7</td>\n",
       "      <td>APOA1</td>\n",
       "      <td>True</td>\n",
       "      <td>True</td>\n",
       "      <td>5.0</td>\n",
       "      <td>CEBPA,E2F4,EGR1,ESR1,GATA6,HNF4A,PPARA,PPARG,R...</td>\n",
       "      <td>10.0</td>\n",
       "    </tr>\n",
       "    <tr>\n",
       "      <th>170</th>\n",
       "      <td>ABCA7</td>\n",
       "      <td>HNRNPD</td>\n",
       "      <td>True</td>\n",
       "      <td>True</td>\n",
       "      <td>5.0</td>\n",
       "      <td>E2F4,ETS1,MITF,MYC</td>\n",
       "      <td>4.0</td>\n",
       "    </tr>\n",
       "    <tr>\n",
       "      <th>172</th>\n",
       "      <td>ABCA7</td>\n",
       "      <td>LLGL2</td>\n",
       "      <td>True</td>\n",
       "      <td>True</td>\n",
       "      <td>5.0</td>\n",
       "      <td>ESR1,SOX9</td>\n",
       "      <td>2.0</td>\n",
       "    </tr>\n",
       "    <tr>\n",
       "      <th>174</th>\n",
       "      <td>ABCA7</td>\n",
       "      <td>SNX27</td>\n",
       "      <td>True</td>\n",
       "      <td>True</td>\n",
       "      <td>5.0</td>\n",
       "      <td>CEBPA,HNF4A</td>\n",
       "      <td>2.0</td>\n",
       "    </tr>\n",
       "  </tbody>\n",
       "</table>\n",
       "</div>"
      ],
      "text/plain": [
       "    driver neighbour  driver_present  neighbour_present  distance  \\\n",
       "165  ABCA7     ADRB2            True               True       5.0   \n",
       "167  ABCA7     APOA1            True               True       5.0   \n",
       "170  ABCA7    HNRNPD            True               True       5.0   \n",
       "172  ABCA7     LLGL2            True               True       5.0   \n",
       "174  ABCA7     SNX27            True               True       5.0   \n",
       "\n",
       "                                                    TF  n_shortest_paths  \n",
       "165                                          SPI1,TP53               2.0  \n",
       "167  CEBPA,E2F4,EGR1,ESR1,GATA6,HNF4A,PPARA,PPARG,R...              10.0  \n",
       "170                                 E2F4,ETS1,MITF,MYC               4.0  \n",
       "172                                          ESR1,SOX9               2.0  \n",
       "174                                        CEBPA,HNF4A               2.0  "
      ]
     },
     "execution_count": 14,
     "metadata": {},
     "output_type": "execute_result"
    }
   ],
   "source": [
    "# Add column with the number of shortest paths for each driver-neighbour pair\n",
    "distances_results[\"n_shortest_paths\"] = distances_results[\"TF\"].str.split(\",\").str.len()\n",
    "distances_results.loc[\n",
    "  (distances_results.driver_present) &\n",
    "  (distances_results.neighbour_present) &\n",
    "  (distances_results.distance.isna()), \"n_shortest_paths\"] = 0\n",
    "distances_results.dropna().head()"
   ]
  },
  {
   "cell_type": "code",
   "execution_count": 15,
   "metadata": {},
   "outputs": [
    {
     "name": "stdout",
     "output_type": "stream",
     "text": [
      "# driver-neighbour pairs: 456493\n",
      "# shortest paths: 270378\n",
      "# pairs in graph without shortest path: 54969\n",
      "# of driver-neighbour pairs evaluated: 325347\n"
     ]
    }
   ],
   "source": [
    "print(\"# driver-neighbour pairs:\", len(distances_results))\n",
    "print(\"# shortest paths:\", len(distances_results.dropna(subset=[\"distance\"])))\n",
    "print(\"# pairs in graph without shortest path:\",\n",
    "      len(distances_results[distances_results.n_shortest_paths == 0]))\n",
    "print(\"# of driver-neighbour pairs evaluated:\",\n",
    "      len(distances_results[distances_results.n_shortest_paths >= 0]))"
   ]
  },
  {
   "cell_type": "code",
   "execution_count": 16,
   "metadata": {},
   "outputs": [],
   "source": [
    "distances_results.to_csv(processeddata+\"full_pathway_analysis.csv\", index=False)"
   ]
  }
 ],
 "metadata": {
  "kernelspec": {
   "display_name": "Python 3 (ipykernel)",
   "language": "python",
   "name": "python3"
  },
  "language_info": {
   "codemirror_mode": {
    "name": "ipython",
    "version": 3
   },
   "file_extension": ".py",
   "mimetype": "text/x-python",
   "name": "python",
   "nbconvert_exporter": "python",
   "pygments_lexer": "ipython3",
   "version": "3.12.11"
  }
 },
 "nbformat": 4,
 "nbformat_minor": 4
}
