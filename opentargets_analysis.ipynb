{
 "cells": [
  {
   "cell_type": "markdown",
   "metadata": {},
   "source": [
    "# Imports"
   ]
  },
  {
   "cell_type": "code",
   "execution_count": 1,
   "metadata": {},
   "outputs": [],
   "source": [
    "import pandas as pd\n",
    "from pyspark.sql import SparkSession\n",
    "from IPython.display import display\n",
    "from python_functions import check_dir"
   ]
  },
  {
   "cell_type": "markdown",
   "metadata": {},
   "source": [
    "# Directories"
   ]
  },
  {
   "cell_type": "code",
   "execution_count": 2,
   "metadata": {},
   "outputs": [],
   "source": [
    "rawdata = \"data/raw/opentargets/\"\n",
    "processeddata = \"data/processed/\"\n",
    "check_dir(rawdata)"
   ]
  },
  {
   "cell_type": "markdown",
   "metadata": {
    "jp-MarkdownHeadingCollapsed": true
   },
   "source": [
    "# Load Datasets"
   ]
  },
  {
   "cell_type": "code",
   "execution_count": 3,
   "metadata": {},
   "outputs": [
    {
     "data": {
      "text/html": [
       "<div>\n",
       "<style scoped>\n",
       "    .dataframe tbody tr th:only-of-type {\n",
       "        vertical-align: middle;\n",
       "    }\n",
       "\n",
       "    .dataframe tbody tr th {\n",
       "        vertical-align: top;\n",
       "    }\n",
       "\n",
       "    .dataframe thead th {\n",
       "        text-align: right;\n",
       "    }\n",
       "</style>\n",
       "<table border=\"1\" class=\"dataframe\">\n",
       "  <thead>\n",
       "    <tr style=\"text-align: right;\">\n",
       "      <th></th>\n",
       "      <th>gene</th>\n",
       "      <th>nint</th>\n",
       "      <th>nsig</th>\n",
       "      <th>z</th>\n",
       "      <th>npos</th>\n",
       "      <th>nneg</th>\n",
       "      <th>posfrac</th>\n",
       "      <th>enriched</th>\n",
       "      <th>posstrict</th>\n",
       "      <th>pos</th>\n",
       "      <th>...</th>\n",
       "      <th>SAneg</th>\n",
       "      <th>type</th>\n",
       "      <th>DAsign</th>\n",
       "      <th>SAsign</th>\n",
       "      <th>driver</th>\n",
       "      <th>canonical</th>\n",
       "      <th>oncogene</th>\n",
       "      <th>tsgene</th>\n",
       "      <th>references</th>\n",
       "      <th>opentargets</th>\n",
       "    </tr>\n",
       "  </thead>\n",
       "  <tbody>\n",
       "    <tr>\n",
       "      <th>0</th>\n",
       "      <td>AATF</td>\n",
       "      <td>79</td>\n",
       "      <td>18</td>\n",
       "      <td>4.460348</td>\n",
       "      <td>18</td>\n",
       "      <td>0</td>\n",
       "      <td>1.000000</td>\n",
       "      <td>1</td>\n",
       "      <td>2</td>\n",
       "      <td>8</td>\n",
       "      <td>...</td>\n",
       "      <td>0</td>\n",
       "      <td>BCT</td>\n",
       "      <td>positive</td>\n",
       "      <td>positive</td>\n",
       "      <td>0</td>\n",
       "      <td>0</td>\n",
       "      <td>0</td>\n",
       "      <td>0</td>\n",
       "      <td>https://doi.org/10.1038/s41467-025-60228-z; ht...</td>\n",
       "      <td>Not Target</td>\n",
       "    </tr>\n",
       "    <tr>\n",
       "      <th>1</th>\n",
       "      <td>ADRM1</td>\n",
       "      <td>50</td>\n",
       "      <td>11</td>\n",
       "      <td>5.342295</td>\n",
       "      <td>11</td>\n",
       "      <td>0</td>\n",
       "      <td>1.000000</td>\n",
       "      <td>1</td>\n",
       "      <td>2</td>\n",
       "      <td>8</td>\n",
       "      <td>...</td>\n",
       "      <td>0</td>\n",
       "      <td>BCT</td>\n",
       "      <td>positive</td>\n",
       "      <td>positive</td>\n",
       "      <td>0</td>\n",
       "      <td>0</td>\n",
       "      <td>0</td>\n",
       "      <td>0</td>\n",
       "      <td>https://doi.org/10.1002/kjm2.12298</td>\n",
       "      <td>Target (Cancer)</td>\n",
       "    </tr>\n",
       "    <tr>\n",
       "      <th>2</th>\n",
       "      <td>AP2S1</td>\n",
       "      <td>31</td>\n",
       "      <td>8</td>\n",
       "      <td>4.646239</td>\n",
       "      <td>8</td>\n",
       "      <td>0</td>\n",
       "      <td>1.000000</td>\n",
       "      <td>1</td>\n",
       "      <td>3</td>\n",
       "      <td>8</td>\n",
       "      <td>...</td>\n",
       "      <td>0</td>\n",
       "      <td>BCT</td>\n",
       "      <td>positive</td>\n",
       "      <td>positive</td>\n",
       "      <td>0</td>\n",
       "      <td>0</td>\n",
       "      <td>0</td>\n",
       "      <td>0</td>\n",
       "      <td>0</td>\n",
       "      <td>Not Target</td>\n",
       "    </tr>\n",
       "    <tr>\n",
       "      <th>3</th>\n",
       "      <td>ARL14</td>\n",
       "      <td>25</td>\n",
       "      <td>7</td>\n",
       "      <td>4.857009</td>\n",
       "      <td>7</td>\n",
       "      <td>0</td>\n",
       "      <td>1.000000</td>\n",
       "      <td>1</td>\n",
       "      <td>2</td>\n",
       "      <td>7</td>\n",
       "      <td>...</td>\n",
       "      <td>0</td>\n",
       "      <td>BCT</td>\n",
       "      <td>positive</td>\n",
       "      <td>positive</td>\n",
       "      <td>0</td>\n",
       "      <td>0</td>\n",
       "      <td>0</td>\n",
       "      <td>0</td>\n",
       "      <td>https://doi.org/10.3389/fcell.2019.00238</td>\n",
       "      <td>Not Target</td>\n",
       "    </tr>\n",
       "    <tr>\n",
       "      <th>4</th>\n",
       "      <td>ASNS</td>\n",
       "      <td>26</td>\n",
       "      <td>7</td>\n",
       "      <td>4.158855</td>\n",
       "      <td>6</td>\n",
       "      <td>1</td>\n",
       "      <td>0.857143</td>\n",
       "      <td>1</td>\n",
       "      <td>3</td>\n",
       "      <td>8</td>\n",
       "      <td>...</td>\n",
       "      <td>0</td>\n",
       "      <td>BCT</td>\n",
       "      <td>positive</td>\n",
       "      <td>positive</td>\n",
       "      <td>0</td>\n",
       "      <td>0</td>\n",
       "      <td>0</td>\n",
       "      <td>0</td>\n",
       "      <td>https://doi.org/10.1038/s41419-022-05015-0</td>\n",
       "      <td>Not Target</td>\n",
       "    </tr>\n",
       "  </tbody>\n",
       "</table>\n",
       "<p>5 rows × 26 columns</p>\n",
       "</div>"
      ],
      "text/plain": [
       "    gene  nint  nsig         z  npos  nneg   posfrac  enriched  posstrict  \\\n",
       "0   AATF    79    18  4.460348    18     0  1.000000         1          2   \n",
       "1  ADRM1    50    11  5.342295    11     0  1.000000         1          2   \n",
       "2  AP2S1    31     8  4.646239     8     0  1.000000         1          3   \n",
       "3  ARL14    25     7  4.857009     7     0  1.000000         1          2   \n",
       "4   ASNS    26     7  4.158855     6     1  0.857143         1          3   \n",
       "\n",
       "   pos  ...  SAneg  type    DAsign    SAsign  driver  canonical  oncogene  \\\n",
       "0    8  ...      0   BCT  positive  positive       0          0         0   \n",
       "1    8  ...      0   BCT  positive  positive       0          0         0   \n",
       "2    8  ...      0   BCT  positive  positive       0          0         0   \n",
       "3    7  ...      0   BCT  positive  positive       0          0         0   \n",
       "4    8  ...      0   BCT  positive  positive       0          0         0   \n",
       "\n",
       "  tsgene                                         references      opentargets  \n",
       "0      0  https://doi.org/10.1038/s41467-025-60228-z; ht...       Not Target  \n",
       "1      0                 https://doi.org/10.1002/kjm2.12298  Target (Cancer)  \n",
       "2      0                                                  0       Not Target  \n",
       "3      0           https://doi.org/10.3389/fcell.2019.00238       Not Target  \n",
       "4      0         https://doi.org/10.1038/s41419-022-05015-0       Not Target  \n",
       "\n",
       "[5 rows x 26 columns]"
      ]
     },
     "metadata": {},
     "output_type": "display_data"
    },
    {
     "data": {
      "text/html": [
       "<div>\n",
       "<style scoped>\n",
       "    .dataframe tbody tr th:only-of-type {\n",
       "        vertical-align: middle;\n",
       "    }\n",
       "\n",
       "    .dataframe tbody tr th {\n",
       "        vertical-align: top;\n",
       "    }\n",
       "\n",
       "    .dataframe thead th {\n",
       "        text-align: right;\n",
       "    }\n",
       "</style>\n",
       "<table border=\"1\" class=\"dataframe\">\n",
       "  <thead>\n",
       "    <tr style=\"text-align: right;\">\n",
       "      <th></th>\n",
       "      <th>gene</th>\n",
       "      <th>nint</th>\n",
       "      <th>nsig</th>\n",
       "      <th>z</th>\n",
       "      <th>npos</th>\n",
       "      <th>nneg</th>\n",
       "      <th>posfrac</th>\n",
       "      <th>enriched</th>\n",
       "      <th>posstrict</th>\n",
       "      <th>pos</th>\n",
       "      <th>...</th>\n",
       "      <th>SAneg</th>\n",
       "      <th>type</th>\n",
       "      <th>DAsign</th>\n",
       "      <th>SAsign</th>\n",
       "      <th>driver</th>\n",
       "      <th>canonical</th>\n",
       "      <th>oncogene</th>\n",
       "      <th>tsgene</th>\n",
       "      <th>references</th>\n",
       "      <th>opentargets</th>\n",
       "    </tr>\n",
       "  </thead>\n",
       "  <tbody>\n",
       "    <tr>\n",
       "      <th>0</th>\n",
       "      <td>AHCYL1</td>\n",
       "      <td>69</td>\n",
       "      <td>20</td>\n",
       "      <td>7.102729</td>\n",
       "      <td>0</td>\n",
       "      <td>20</td>\n",
       "      <td>0.0</td>\n",
       "      <td>1</td>\n",
       "      <td>0</td>\n",
       "      <td>2</td>\n",
       "      <td>...</td>\n",
       "      <td>2</td>\n",
       "      <td>BCT</td>\n",
       "      <td>negative</td>\n",
       "      <td>negative</td>\n",
       "      <td>0</td>\n",
       "      <td>0</td>\n",
       "      <td>0</td>\n",
       "      <td>0</td>\n",
       "      <td>https://doi.org/10.1186/s13062-023-00364-y; ht...</td>\n",
       "      <td>Not Target</td>\n",
       "    </tr>\n",
       "    <tr>\n",
       "      <th>1</th>\n",
       "      <td>AP3S2</td>\n",
       "      <td>10</td>\n",
       "      <td>4</td>\n",
       "      <td>4.828624</td>\n",
       "      <td>0</td>\n",
       "      <td>4</td>\n",
       "      <td>0.0</td>\n",
       "      <td>1</td>\n",
       "      <td>0</td>\n",
       "      <td>3</td>\n",
       "      <td>...</td>\n",
       "      <td>2</td>\n",
       "      <td>BCT</td>\n",
       "      <td>negative</td>\n",
       "      <td>negative</td>\n",
       "      <td>0</td>\n",
       "      <td>0</td>\n",
       "      <td>0</td>\n",
       "      <td>0</td>\n",
       "      <td>0</td>\n",
       "      <td>Not Target</td>\n",
       "    </tr>\n",
       "    <tr>\n",
       "      <th>2</th>\n",
       "      <td>ARL3</td>\n",
       "      <td>9</td>\n",
       "      <td>4</td>\n",
       "      <td>4.140000</td>\n",
       "      <td>0</td>\n",
       "      <td>4</td>\n",
       "      <td>0.0</td>\n",
       "      <td>1</td>\n",
       "      <td>0</td>\n",
       "      <td>5</td>\n",
       "      <td>...</td>\n",
       "      <td>2</td>\n",
       "      <td>BCT</td>\n",
       "      <td>negative</td>\n",
       "      <td>negative</td>\n",
       "      <td>0</td>\n",
       "      <td>0</td>\n",
       "      <td>0</td>\n",
       "      <td>0</td>\n",
       "      <td>0</td>\n",
       "      <td>Not Target</td>\n",
       "    </tr>\n",
       "    <tr>\n",
       "      <th>3</th>\n",
       "      <td>C3orf18</td>\n",
       "      <td>22</td>\n",
       "      <td>7</td>\n",
       "      <td>4.625119</td>\n",
       "      <td>0</td>\n",
       "      <td>7</td>\n",
       "      <td>0.0</td>\n",
       "      <td>1</td>\n",
       "      <td>0</td>\n",
       "      <td>6</td>\n",
       "      <td>...</td>\n",
       "      <td>2</td>\n",
       "      <td>BCT</td>\n",
       "      <td>negative</td>\n",
       "      <td>negative</td>\n",
       "      <td>0</td>\n",
       "      <td>0</td>\n",
       "      <td>0</td>\n",
       "      <td>0</td>\n",
       "      <td>0</td>\n",
       "      <td>Not Target</td>\n",
       "    </tr>\n",
       "    <tr>\n",
       "      <th>4</th>\n",
       "      <td>CLCC1</td>\n",
       "      <td>32</td>\n",
       "      <td>9</td>\n",
       "      <td>3.941381</td>\n",
       "      <td>0</td>\n",
       "      <td>9</td>\n",
       "      <td>0.0</td>\n",
       "      <td>1</td>\n",
       "      <td>0</td>\n",
       "      <td>4</td>\n",
       "      <td>...</td>\n",
       "      <td>2</td>\n",
       "      <td>BCT</td>\n",
       "      <td>negative</td>\n",
       "      <td>negative</td>\n",
       "      <td>0</td>\n",
       "      <td>0</td>\n",
       "      <td>0</td>\n",
       "      <td>0</td>\n",
       "      <td>0</td>\n",
       "      <td>Not Target</td>\n",
       "    </tr>\n",
       "  </tbody>\n",
       "</table>\n",
       "<p>5 rows × 26 columns</p>\n",
       "</div>"
      ],
      "text/plain": [
       "      gene  nint  nsig         z  npos  nneg  posfrac  enriched  posstrict  \\\n",
       "0   AHCYL1    69    20  7.102729     0    20      0.0         1          0   \n",
       "1    AP3S2    10     4  4.828624     0     4      0.0         1          0   \n",
       "2     ARL3     9     4  4.140000     0     4      0.0         1          0   \n",
       "3  C3orf18    22     7  4.625119     0     7      0.0         1          0   \n",
       "4    CLCC1    32     9  3.941381     0     9      0.0         1          0   \n",
       "\n",
       "   pos  ...  SAneg  type    DAsign    SAsign  driver  canonical  oncogene  \\\n",
       "0    2  ...      2   BCT  negative  negative       0          0         0   \n",
       "1    3  ...      2   BCT  negative  negative       0          0         0   \n",
       "2    5  ...      2   BCT  negative  negative       0          0         0   \n",
       "3    6  ...      2   BCT  negative  negative       0          0         0   \n",
       "4    4  ...      2   BCT  negative  negative       0          0         0   \n",
       "\n",
       "  tsgene                                         references opentargets  \n",
       "0      0  https://doi.org/10.1186/s13062-023-00364-y; ht...  Not Target  \n",
       "1      0                                                  0  Not Target  \n",
       "2      0                                                  0  Not Target  \n",
       "3      0                                                  0  Not Target  \n",
       "4      0                                                  0  Not Target  \n",
       "\n",
       "[5 rows x 26 columns]"
      ]
     },
     "execution_count": 3,
     "metadata": {},
     "output_type": "execute_result"
    }
   ],
   "source": [
    "positive = pd.read_csv(processeddata+\"bctPcand.csv\")\n",
    "negative = pd.read_csv(processeddata+\"bctNcand.csv\")\n",
    "display(positive.head())\n",
    "negative.head()"
   ]
  },
  {
   "cell_type": "code",
   "execution_count": 4,
   "metadata": {},
   "outputs": [
    {
     "name": "stdout",
     "output_type": "stream",
     "text": [
      "144\n"
     ]
    }
   ],
   "source": [
    "genes = list(set(positive.gene.tolist() + negative.gene.tolist()))\n",
    "print(len(genes))"
   ]
  },
  {
   "cell_type": "markdown",
   "metadata": {},
   "source": [
    "# Open Targets Search"
   ]
  },
  {
   "cell_type": "markdown",
   "metadata": {
    "jp-MarkdownHeadingCollapsed": true
   },
   "source": [
    "## Load Database"
   ]
  },
  {
   "cell_type": "code",
   "execution_count": 5,
   "metadata": {},
   "outputs": [],
   "source": [
    "targetsPath = rawdata+\"targets\"\n",
    "moleculePath = rawdata+\"molecule\"\n",
    "associationPath = rawdata+\"associationByOverallDirect\"\n",
    "diseasePath = rawdata+\"diseases\""
   ]
  },
  {
   "cell_type": "code",
   "execution_count": 6,
   "metadata": {},
   "outputs": [
    {
     "name": "stderr",
     "output_type": "stream",
     "text": [
      "WARNING: Using incubator modules: jdk.incubator.vector\n",
      "Using Spark's default log4j profile: org/apache/spark/log4j2-defaults.properties\n",
      "25/07/26 16:18:40 WARN Utils: Your hostname, thinkpad-x1, resolves to a loopback address: 127.0.1.1; using 192.168.1.179 instead (on interface wlan0)\n",
      "25/07/26 16:18:40 WARN Utils: Set SPARK_LOCAL_IP if you need to bind to another address\n",
      "Using Spark's default log4j profile: org/apache/spark/log4j2-defaults.properties\n",
      "Setting default log level to \"WARN\".\n",
      "To adjust logging level use sc.setLogLevel(newLevel). For SparkR, use setLogLevel(newLevel).\n",
      "25/07/26 16:18:42 WARN NativeCodeLoader: Unable to load native-hadoop library for your platform... using builtin-java classes where applicable\n"
     ]
    }
   ],
   "source": [
    "# Establish spark connection\n",
    "spark = SparkSession.builder.master('local[*]').getOrCreate()"
   ]
  },
  {
   "cell_type": "code",
   "execution_count": 7,
   "metadata": {},
   "outputs": [
    {
     "name": "stderr",
     "output_type": "stream",
     "text": [
      "                                                                                "
     ]
    }
   ],
   "source": [
    "# Read datasets\n",
    "targets = spark.read.parquet(targetsPath)\n",
    "diseases = spark.read.parquet(diseasePath)\n",
    "molecules = spark.read.parquet(moleculePath)\n",
    "association = spark.read.parquet(associationPath)"
   ]
  },
  {
   "cell_type": "markdown",
   "metadata": {
    "jp-MarkdownHeadingCollapsed": true
   },
   "source": [
    "### Targets"
   ]
  },
  {
   "cell_type": "code",
   "execution_count": 8,
   "metadata": {},
   "outputs": [
    {
     "name": "stdout",
     "output_type": "stream",
     "text": [
      "root\n",
      " |-- id: string (nullable = true)\n",
      " |-- approvedSymbol: string (nullable = true)\n",
      " |-- biotype: string (nullable = true)\n",
      " |-- transcriptIds: array (nullable = true)\n",
      " |    |-- element: string (containsNull = true)\n",
      " |-- canonicalTranscript: struct (nullable = true)\n",
      " |    |-- id: string (nullable = true)\n",
      " |    |-- chromosome: string (nullable = true)\n",
      " |    |-- start: long (nullable = true)\n",
      " |    |-- end: long (nullable = true)\n",
      " |    |-- strand: string (nullable = true)\n",
      " |-- canonicalExons: array (nullable = true)\n",
      " |    |-- element: string (containsNull = true)\n",
      " |-- genomicLocation: struct (nullable = true)\n",
      " |    |-- chromosome: string (nullable = true)\n",
      " |    |-- start: long (nullable = true)\n",
      " |    |-- end: long (nullable = true)\n",
      " |    |-- strand: integer (nullable = true)\n",
      " |-- alternativeGenes: array (nullable = true)\n",
      " |    |-- element: string (containsNull = true)\n",
      " |-- approvedName: string (nullable = true)\n",
      " |-- go: array (nullable = true)\n",
      " |    |-- element: struct (containsNull = true)\n",
      " |    |    |-- id: string (nullable = true)\n",
      " |    |    |-- source: string (nullable = true)\n",
      " |    |    |-- evidence: string (nullable = true)\n",
      " |    |    |-- aspect: string (nullable = true)\n",
      " |    |    |-- geneProduct: string (nullable = true)\n",
      " |    |    |-- ecoId: string (nullable = true)\n",
      " |-- hallmarks: struct (nullable = true)\n",
      " |    |-- attributes: array (nullable = true)\n",
      " |    |    |-- element: struct (containsNull = true)\n",
      " |    |    |    |-- pmid: long (nullable = true)\n",
      " |    |    |    |-- description: string (nullable = true)\n",
      " |    |    |    |-- attribute_name: string (nullable = true)\n",
      " |    |-- cancerHallmarks: array (nullable = true)\n",
      " |    |    |-- element: struct (containsNull = true)\n",
      " |    |    |    |-- pmid: long (nullable = true)\n",
      " |    |    |    |-- description: string (nullable = true)\n",
      " |    |    |    |-- impact: string (nullable = true)\n",
      " |    |    |    |-- label: string (nullable = true)\n",
      " |-- synonyms: array (nullable = true)\n",
      " |    |-- element: struct (containsNull = true)\n",
      " |    |    |-- label: string (nullable = true)\n",
      " |    |    |-- source: string (nullable = true)\n",
      " |-- symbolSynonyms: array (nullable = true)\n",
      " |    |-- element: struct (containsNull = true)\n",
      " |    |    |-- label: string (nullable = true)\n",
      " |    |    |-- source: string (nullable = true)\n",
      " |-- nameSynonyms: array (nullable = true)\n",
      " |    |-- element: struct (containsNull = true)\n",
      " |    |    |-- label: string (nullable = true)\n",
      " |    |    |-- source: string (nullable = true)\n",
      " |-- functionDescriptions: array (nullable = true)\n",
      " |    |-- element: string (containsNull = true)\n",
      " |-- subcellularLocations: array (nullable = true)\n",
      " |    |-- element: struct (containsNull = true)\n",
      " |    |    |-- location: string (nullable = true)\n",
      " |    |    |-- source: string (nullable = true)\n",
      " |    |    |-- termSL: string (nullable = true)\n",
      " |    |    |-- labelSL: string (nullable = true)\n",
      " |-- targetClass: array (nullable = true)\n",
      " |    |-- element: struct (containsNull = true)\n",
      " |    |    |-- id: long (nullable = true)\n",
      " |    |    |-- label: string (nullable = true)\n",
      " |    |    |-- level: string (nullable = true)\n",
      " |-- obsoleteSymbols: array (nullable = true)\n",
      " |    |-- element: struct (containsNull = true)\n",
      " |    |    |-- label: string (nullable = true)\n",
      " |    |    |-- source: string (nullable = true)\n",
      " |-- obsoleteNames: array (nullable = true)\n",
      " |    |-- element: struct (containsNull = true)\n",
      " |    |    |-- label: string (nullable = true)\n",
      " |    |    |-- source: string (nullable = true)\n",
      " |-- constraint: array (nullable = true)\n",
      " |    |-- element: struct (containsNull = true)\n",
      " |    |    |-- constraintType: string (nullable = true)\n",
      " |    |    |-- score: float (nullable = true)\n",
      " |    |    |-- exp: float (nullable = true)\n",
      " |    |    |-- obs: integer (nullable = true)\n",
      " |    |    |-- oe: float (nullable = true)\n",
      " |    |    |-- oeLower: float (nullable = true)\n",
      " |    |    |-- oeUpper: float (nullable = true)\n",
      " |    |    |-- upperRank: integer (nullable = true)\n",
      " |    |    |-- upperBin: integer (nullable = true)\n",
      " |    |    |-- upperBin6: integer (nullable = true)\n",
      " |-- tep: struct (nullable = true)\n",
      " |    |-- targetFromSourceId: string (nullable = true)\n",
      " |    |-- description: string (nullable = true)\n",
      " |    |-- therapeuticArea: string (nullable = true)\n",
      " |    |-- url: string (nullable = true)\n",
      " |-- proteinIds: array (nullable = true)\n",
      " |    |-- element: struct (containsNull = true)\n",
      " |    |    |-- id: string (nullable = true)\n",
      " |    |    |-- source: string (nullable = true)\n",
      " |-- dbXrefs: array (nullable = true)\n",
      " |    |-- element: struct (containsNull = true)\n",
      " |    |    |-- id: string (nullable = true)\n",
      " |    |    |-- source: string (nullable = true)\n",
      " |-- chemicalProbes: array (nullable = true)\n",
      " |    |-- element: struct (containsNull = true)\n",
      " |    |    |-- control: string (nullable = true)\n",
      " |    |    |-- drugId: string (nullable = true)\n",
      " |    |    |-- id: string (nullable = true)\n",
      " |    |    |-- isHighQuality: boolean (nullable = true)\n",
      " |    |    |-- mechanismOfAction: array (nullable = true)\n",
      " |    |    |    |-- element: string (containsNull = true)\n",
      " |    |    |-- origin: array (nullable = true)\n",
      " |    |    |    |-- element: string (containsNull = true)\n",
      " |    |    |-- probeMinerScore: long (nullable = true)\n",
      " |    |    |-- probesDrugsScore: long (nullable = true)\n",
      " |    |    |-- scoreInCells: long (nullable = true)\n",
      " |    |    |-- scoreInOrganisms: long (nullable = true)\n",
      " |    |    |-- targetFromSourceId: string (nullable = true)\n",
      " |    |    |-- urls: array (nullable = true)\n",
      " |    |    |    |-- element: struct (containsNull = true)\n",
      " |    |    |    |    |-- niceName: string (nullable = true)\n",
      " |    |    |    |    |-- url: string (nullable = true)\n",
      " |-- homologues: array (nullable = true)\n",
      " |    |-- element: struct (containsNull = true)\n",
      " |    |    |-- speciesId: string (nullable = true)\n",
      " |    |    |-- speciesName: string (nullable = true)\n",
      " |    |    |-- homologyType: string (nullable = true)\n",
      " |    |    |-- targetGeneId: string (nullable = true)\n",
      " |    |    |-- isHighConfidence: string (nullable = true)\n",
      " |    |    |-- targetGeneSymbol: string (nullable = true)\n",
      " |    |    |-- queryPercentageIdentity: double (nullable = true)\n",
      " |    |    |-- targetPercentageIdentity: double (nullable = true)\n",
      " |    |    |-- priority: integer (nullable = true)\n",
      " |-- tractability: array (nullable = true)\n",
      " |    |-- element: struct (containsNull = true)\n",
      " |    |    |-- modality: string (nullable = true)\n",
      " |    |    |-- id: string (nullable = true)\n",
      " |    |    |-- value: boolean (nullable = true)\n",
      " |-- safetyLiabilities: array (nullable = true)\n",
      " |    |-- element: struct (containsNull = true)\n",
      " |    |    |-- event: string (nullable = true)\n",
      " |    |    |-- eventId: string (nullable = true)\n",
      " |    |    |-- effects: array (nullable = true)\n",
      " |    |    |    |-- element: struct (containsNull = true)\n",
      " |    |    |    |    |-- direction: string (nullable = true)\n",
      " |    |    |    |    |-- dosing: string (nullable = true)\n",
      " |    |    |-- biosamples: array (nullable = true)\n",
      " |    |    |    |-- element: struct (containsNull = true)\n",
      " |    |    |    |    |-- cellFormat: string (nullable = true)\n",
      " |    |    |    |    |-- cellLabel: string (nullable = true)\n",
      " |    |    |    |    |-- tissueId: string (nullable = true)\n",
      " |    |    |    |    |-- tissueLabel: string (nullable = true)\n",
      " |    |    |-- datasource: string (nullable = true)\n",
      " |    |    |-- literature: string (nullable = true)\n",
      " |    |    |-- url: string (nullable = true)\n",
      " |    |    |-- studies: array (nullable = true)\n",
      " |    |    |    |-- element: struct (containsNull = true)\n",
      " |    |    |    |    |-- description: string (nullable = true)\n",
      " |    |    |    |    |-- name: string (nullable = true)\n",
      " |    |    |    |    |-- type: string (nullable = true)\n",
      " |-- pathways: array (nullable = true)\n",
      " |    |-- element: struct (containsNull = true)\n",
      " |    |    |-- pathwayId: string (nullable = true)\n",
      " |    |    |-- pathway: string (nullable = true)\n",
      " |    |    |-- topLevelTerm: string (nullable = true)\n",
      "\n"
     ]
    }
   ],
   "source": [
    "# Browse the targets schema\n",
    "targets.printSchema()"
   ]
  },
  {
   "cell_type": "code",
   "execution_count": 9,
   "metadata": {},
   "outputs": [
    {
     "name": "stderr",
     "output_type": "stream",
     "text": [
      "                                                                                "
     ]
    },
    {
     "name": "stdout",
     "output_type": "stream",
     "text": [
      "+---------------+--------------+\n",
      "|             id|approvedSymbol|\n",
      "+---------------+--------------+\n",
      "|ENSG00000002586|          CD99|\n",
      "|ENSG00000015479|         MATR3|\n",
      "|ENSG00000037280|          FLT4|\n",
      "|ENSG00000038427|          VCAN|\n",
      "|ENSG00000050730|         TNIP3|\n",
      "+---------------+--------------+\n",
      "only showing top 5 rows\n"
     ]
    }
   ],
   "source": [
    "# Select fields of interest\n",
    "targetSelect = (\n",
    "    targets.select(\n",
    "        \"id\",\n",
    "        \"approvedSymbol\"\n",
    "    )\n",
    ")\n",
    "targetSelect.show(5)"
   ]
  },
  {
   "cell_type": "code",
   "execution_count": 10,
   "metadata": {},
   "outputs": [
    {
     "name": "stderr",
     "output_type": "stream",
     "text": [
      "                                                                                "
     ]
    },
    {
     "name": "stdout",
     "output_type": "stream",
     "text": [
      "144\n"
     ]
    },
    {
     "data": {
      "text/html": [
       "<div>\n",
       "<style scoped>\n",
       "    .dataframe tbody tr th:only-of-type {\n",
       "        vertical-align: middle;\n",
       "    }\n",
       "\n",
       "    .dataframe tbody tr th {\n",
       "        vertical-align: top;\n",
       "    }\n",
       "\n",
       "    .dataframe thead th {\n",
       "        text-align: right;\n",
       "    }\n",
       "</style>\n",
       "<table border=\"1\" class=\"dataframe\">\n",
       "  <thead>\n",
       "    <tr style=\"text-align: right;\">\n",
       "      <th></th>\n",
       "      <th>ensembl_id</th>\n",
       "      <th>gene_id</th>\n",
       "    </tr>\n",
       "  </thead>\n",
       "  <tbody>\n",
       "    <tr>\n",
       "      <th>1052</th>\n",
       "      <td>ENSG00000138160</td>\n",
       "      <td>KIF11</td>\n",
       "    </tr>\n",
       "    <tr>\n",
       "      <th>2057</th>\n",
       "      <td>ENSG00000091428</td>\n",
       "      <td>RAPGEF4</td>\n",
       "    </tr>\n",
       "  </tbody>\n",
       "</table>\n",
       "</div>"
      ],
      "text/plain": [
       "           ensembl_id  gene_id\n",
       "1052  ENSG00000138160    KIF11\n",
       "2057  ENSG00000091428  RAPGEF4"
      ]
     },
     "execution_count": 10,
     "metadata": {},
     "output_type": "execute_result"
    }
   ],
   "source": [
    "target_df = (\n",
    "    targetSelect\n",
    "    .toPandas()\n",
    "    .rename(columns={\n",
    "        \"approvedSymbol\": \"gene_id\",\n",
    "        \"id\": \"ensembl_id\"\n",
    "    })\n",
    "    #.merge(supptable, on=\"gene_id\")\n",
    "    [lambda x: x.gene_id.isin(genes)]\n",
    ")\n",
    "print(len(target_df))\n",
    "target_df.head(2)"
   ]
  },
  {
   "cell_type": "code",
   "execution_count": 11,
   "metadata": {},
   "outputs": [
    {
     "name": "stdout",
     "output_type": "stream",
     "text": [
      "0\n"
     ]
    }
   ],
   "source": [
    "# See if exist \"ensembl_id\" duplicates\n",
    "print((target_df.ensembl_id.duplicated()).sum()) "
   ]
  },
  {
   "cell_type": "markdown",
   "metadata": {
    "jp-MarkdownHeadingCollapsed": true
   },
   "source": [
    "### Diseases"
   ]
  },
  {
   "cell_type": "code",
   "execution_count": 12,
   "metadata": {},
   "outputs": [
    {
     "name": "stdout",
     "output_type": "stream",
     "text": [
      "root\n",
      " |-- id: string (nullable = true)\n",
      " |-- code: string (nullable = true)\n",
      " |-- dbXRefs: array (nullable = true)\n",
      " |    |-- element: string (containsNull = true)\n",
      " |-- description: string (nullable = true)\n",
      " |-- name: string (nullable = true)\n",
      " |-- directLocationIds: array (nullable = true)\n",
      " |    |-- element: string (containsNull = true)\n",
      " |-- obsoleteTerms: array (nullable = true)\n",
      " |    |-- element: string (containsNull = true)\n",
      " |-- parents: array (nullable = true)\n",
      " |    |-- element: string (containsNull = true)\n",
      " |-- synonyms: struct (nullable = true)\n",
      " |    |-- hasBroadSynonym: array (nullable = true)\n",
      " |    |    |-- element: string (containsNull = true)\n",
      " |    |-- hasExactSynonym: array (nullable = true)\n",
      " |    |    |-- element: string (containsNull = true)\n",
      " |    |-- hasNarrowSynonym: array (nullable = true)\n",
      " |    |    |-- element: string (containsNull = true)\n",
      " |    |-- hasRelatedSynonym: array (nullable = true)\n",
      " |    |    |-- element: string (containsNull = true)\n",
      " |-- ancestors: array (nullable = true)\n",
      " |    |-- element: string (containsNull = true)\n",
      " |-- descendants: array (nullable = true)\n",
      " |    |-- element: string (containsNull = true)\n",
      " |-- children: array (nullable = true)\n",
      " |    |-- element: string (containsNull = true)\n",
      " |-- therapeuticAreas: array (nullable = true)\n",
      " |    |-- element: string (containsNull = true)\n",
      " |-- indirectLocationIds: array (nullable = true)\n",
      " |    |-- element: string (containsNull = true)\n",
      " |-- ontology: struct (nullable = true)\n",
      " |    |-- isTherapeuticArea: boolean (nullable = true)\n",
      " |    |-- leaf: boolean (nullable = true)\n",
      " |    |-- sources: struct (nullable = true)\n",
      " |    |    |-- url: string (nullable = true)\n",
      " |    |    |-- name: string (nullable = true)\n",
      "\n"
     ]
    }
   ],
   "source": [
    "# Browse the disease schema\n",
    "diseases.printSchema()"
   ]
  },
  {
   "cell_type": "code",
   "execution_count": 13,
   "metadata": {},
   "outputs": [
    {
     "name": "stdout",
     "output_type": "stream",
     "text": [
      "+-----------+--------------------+--------------------+\n",
      "|         id|                name|           ancestors|\n",
      "+-----------+--------------------+--------------------+\n",
      "|EFO_0000255|angioimmunoblasti...|[MONDO_0000430, O...|\n",
      "|EFO_0000508|    genetic disorder|      [OTAR_0000018]|\n",
      "|EFO_0001054|             leprosy|[EFO_0009387, OTA...|\n",
      "|EFO_0004287|ventricular fibri...|[EFO_0003777, EFO...|\n",
      "|EFO_0004302|anthropometric me...|       [EFO_0001444]|\n",
      "+-----------+--------------------+--------------------+\n",
      "only showing top 5 rows\n"
     ]
    }
   ],
   "source": [
    "# Select fields of interest\n",
    "diseaseSelect = (\n",
    "    diseases.select(\n",
    "        \"id\",\n",
    "        \"name\",\n",
    "        \"ancestors\"\n",
    "    )\n",
    ")\n",
    "diseaseSelect.show(5)"
   ]
  },
  {
   "cell_type": "markdown",
   "metadata": {},
   "source": [
    "[MONDO_0004992](https://platform.opentargets.org/disease/MONDO_0004992) is the main identifier for cancer. Since this *Disease Category* includes in its `descendants` all cancer types, we will use it to filter targets and drugs"
   ]
  },
  {
   "cell_type": "code",
   "execution_count": 14,
   "metadata": {},
   "outputs": [
    {
     "name": "stderr",
     "output_type": "stream",
     "text": [
      "                                                                                "
     ]
    },
    {
     "name": "stdout",
     "output_type": "stream",
     "text": [
      "1715\n"
     ]
    },
    {
     "data": {
      "text/html": [
       "<div>\n",
       "<style scoped>\n",
       "    .dataframe tbody tr th:only-of-type {\n",
       "        vertical-align: middle;\n",
       "    }\n",
       "\n",
       "    .dataframe tbody tr th {\n",
       "        vertical-align: top;\n",
       "    }\n",
       "\n",
       "    .dataframe thead th {\n",
       "        text-align: right;\n",
       "    }\n",
       "</style>\n",
       "<table border=\"1\" class=\"dataframe\">\n",
       "  <thead>\n",
       "    <tr style=\"text-align: right;\">\n",
       "      <th></th>\n",
       "      <th>disease_id</th>\n",
       "      <th>disease_name</th>\n",
       "    </tr>\n",
       "  </thead>\n",
       "  <tbody>\n",
       "    <tr>\n",
       "      <th>74</th>\n",
       "      <td>MONDO_0002759</td>\n",
       "      <td>bladder verrucous carcinoma</td>\n",
       "    </tr>\n",
       "    <tr>\n",
       "      <th>77</th>\n",
       "      <td>MONDO_0003086</td>\n",
       "      <td>thymic mucoepidermoid carcinoma</td>\n",
       "    </tr>\n",
       "  </tbody>\n",
       "</table>\n",
       "</div>"
      ],
      "text/plain": [
       "       disease_id                     disease_name\n",
       "74  MONDO_0002759      bladder verrucous carcinoma\n",
       "77  MONDO_0003086  thymic mucoepidermoid carcinoma"
      ]
     },
     "execution_count": 14,
     "metadata": {},
     "output_type": "execute_result"
    }
   ],
   "source": [
    "disease_df = (\n",
    "    diseaseSelect\n",
    "    .toPandas()\n",
    "    .explode(column='ancestors')\n",
    "    .loc[lambda x: x.ancestors == \"MONDO_0004992\", [\"id\", \"name\"]]\n",
    "    .rename(columns={\"id\": \"disease_id\", \"name\": \"disease_name\"})\n",
    ")\n",
    "print(len(disease_df))\n",
    "disease_df.head(2)"
   ]
  },
  {
   "cell_type": "code",
   "execution_count": 15,
   "metadata": {},
   "outputs": [],
   "source": [
    "# Adds MONDO_0004992 as its own descendant, so we can filter out diseases that are descendants of MONDO_0004992\n",
    "disease_df = pd.concat([\n",
    "    disease_df,\n",
    "    (\n",
    "        diseaseSelect\n",
    "        .toPandas()\n",
    "        [[\"id\", \"name\"]]\n",
    "        .rename(columns={\"id\": \"disease_id\", \"name\": \"disease_name\"})\n",
    "        [lambda x: x.disease_id==\"MONDO_0004992\"]\n",
    "    )\n",
    "])"
   ]
  },
  {
   "cell_type": "markdown",
   "metadata": {
    "jp-MarkdownHeadingCollapsed": true
   },
   "source": [
    "### Evidence"
   ]
  },
  {
   "cell_type": "code",
   "execution_count": 16,
   "metadata": {},
   "outputs": [
    {
     "name": "stdout",
     "output_type": "stream",
     "text": [
      "root\n",
      " |-- diseaseId: string (nullable = true)\n",
      " |-- targetId: string (nullable = true)\n",
      " |-- score: double (nullable = true)\n",
      " |-- evidenceCount: long (nullable = true)\n",
      "\n"
     ]
    }
   ],
   "source": [
    "# Browse the evidence schema\n",
    "association.printSchema()"
   ]
  },
  {
   "cell_type": "code",
   "execution_count": 17,
   "metadata": {},
   "outputs": [
    {
     "name": "stdout",
     "output_type": "stream",
     "text": [
      "+---------------+-----------+--------------------+\n",
      "|       targetId|  diseaseId|               score|\n",
      "+---------------+-----------+--------------------+\n",
      "|ENSG00000004399|EFO_0000580|0.005174117965585...|\n",
      "|ENSG00000012048|EFO_0000580|0.017054967553679457|\n",
      "|ENSG00000026025|EFO_0000580|0.001478319418738...|\n",
      "|ENSG00000026103|EFO_0000580|0.029566388374776147|\n",
      "|ENSG00000035862|EFO_0000580|0.007391597093694037|\n",
      "+---------------+-----------+--------------------+\n",
      "only showing top 5 rows\n"
     ]
    }
   ],
   "source": [
    "# Select fields of interest\n",
    "associationSelect = (\n",
    "    association.select(\n",
    "        \"targetId\",\n",
    "        \"diseaseId\",\n",
    "        \"score\",\n",
    "    )\n",
    ")\n",
    "associationSelect.show(5)"
   ]
  },
  {
   "cell_type": "code",
   "execution_count": 18,
   "metadata": {},
   "outputs": [
    {
     "name": "stderr",
     "output_type": "stream",
     "text": [
      "                                                                                "
     ]
    },
    {
     "name": "stdout",
     "output_type": "stream",
     "text": [
      "6990\n"
     ]
    },
    {
     "data": {
      "text/html": [
       "<div>\n",
       "<style scoped>\n",
       "    .dataframe tbody tr th:only-of-type {\n",
       "        vertical-align: middle;\n",
       "    }\n",
       "\n",
       "    .dataframe tbody tr th {\n",
       "        vertical-align: top;\n",
       "    }\n",
       "\n",
       "    .dataframe thead th {\n",
       "        text-align: right;\n",
       "    }\n",
       "</style>\n",
       "<table border=\"1\" class=\"dataframe\">\n",
       "  <thead>\n",
       "    <tr style=\"text-align: right;\">\n",
       "      <th></th>\n",
       "      <th>gene_id</th>\n",
       "      <th>disease_id</th>\n",
       "      <th>disease_name</th>\n",
       "      <th>score</th>\n",
       "    </tr>\n",
       "  </thead>\n",
       "  <tbody>\n",
       "    <tr>\n",
       "      <th>0</th>\n",
       "      <td>AURKA</td>\n",
       "      <td>EFO_0000580</td>\n",
       "      <td>medullary breast carcinoma</td>\n",
       "      <td>0.003696</td>\n",
       "    </tr>\n",
       "    <tr>\n",
       "      <th>1</th>\n",
       "      <td>TRIM28</td>\n",
       "      <td>EFO_0000580</td>\n",
       "      <td>medullary breast carcinoma</td>\n",
       "      <td>0.003696</td>\n",
       "    </tr>\n",
       "  </tbody>\n",
       "</table>\n",
       "</div>"
      ],
      "text/plain": [
       "  gene_id   disease_id                disease_name     score\n",
       "0   AURKA  EFO_0000580  medullary breast carcinoma  0.003696\n",
       "1  TRIM28  EFO_0000580  medullary breast carcinoma  0.003696"
      ]
     },
     "execution_count": 18,
     "metadata": {},
     "output_type": "execute_result"
    }
   ],
   "source": [
    "association_df = (\n",
    "    associationSelect\n",
    "    .toPandas()\n",
    "    .rename(columns={\n",
    "        \"targetId\": \"ensembl_id\",\n",
    "        \"diseaseId\": \"disease_id\"\n",
    "    })\n",
    "    .merge(disease_df)\n",
    "    .merge(target_df)\n",
    "    [[\"gene_id\", \"disease_id\", \"disease_name\", \"score\"]]\n",
    ")\n",
    "print(len(association_df))\n",
    "association_df.head(2)"
   ]
  },
  {
   "cell_type": "code",
   "execution_count": 19,
   "metadata": {},
   "outputs": [],
   "source": [
    "association_df.to_csv(processeddata+\"target_disease_association.csv\", index=False)"
   ]
  },
  {
   "cell_type": "markdown",
   "metadata": {
    "jp-MarkdownHeadingCollapsed": true
   },
   "source": [
    "### Molecules"
   ]
  },
  {
   "cell_type": "code",
   "execution_count": 20,
   "metadata": {},
   "outputs": [
    {
     "name": "stdout",
     "output_type": "stream",
     "text": [
      "root\n",
      " |-- id: string (nullable = true)\n",
      " |-- canonicalSmiles: string (nullable = true)\n",
      " |-- inchiKey: string (nullable = true)\n",
      " |-- drugType: string (nullable = true)\n",
      " |-- blackBoxWarning: boolean (nullable = true)\n",
      " |-- name: string (nullable = true)\n",
      " |-- yearOfFirstApproval: long (nullable = true)\n",
      " |-- maximumClinicalTrialPhase: double (nullable = true)\n",
      " |-- parentId: string (nullable = true)\n",
      " |-- hasBeenWithdrawn: boolean (nullable = true)\n",
      " |-- isApproved: boolean (nullable = true)\n",
      " |-- tradeNames: array (nullable = true)\n",
      " |    |-- element: string (containsNull = true)\n",
      " |-- synonyms: array (nullable = true)\n",
      " |    |-- element: string (containsNull = true)\n",
      " |-- crossReferences: map (nullable = true)\n",
      " |    |-- key: string\n",
      " |    |-- value: array (valueContainsNull = true)\n",
      " |    |    |-- element: string (containsNull = true)\n",
      " |-- childChemblIds: array (nullable = true)\n",
      " |    |-- element: string (containsNull = true)\n",
      " |-- linkedDiseases: struct (nullable = true)\n",
      " |    |-- rows: array (nullable = true)\n",
      " |    |    |-- element: string (containsNull = true)\n",
      " |    |-- count: integer (nullable = true)\n",
      " |-- linkedTargets: struct (nullable = true)\n",
      " |    |-- rows: array (nullable = true)\n",
      " |    |    |-- element: string (containsNull = true)\n",
      " |    |-- count: integer (nullable = true)\n",
      " |-- description: string (nullable = true)\n",
      "\n"
     ]
    }
   ],
   "source": [
    "# Browse the molecule schema\n",
    "molecules.printSchema()"
   ]
  },
  {
   "cell_type": "code",
   "execution_count": 21,
   "metadata": {},
   "outputs": [
    {
     "name": "stdout",
     "output_type": "stream",
     "text": [
      "+-------------+-------------+----------+--------------------+--------------------+-------------------------+--------------+\n",
      "|           id|         name|isApproved|       linkedTargets|      linkedDiseases|maximumClinicalTrialPhase|      drugType|\n",
      "+-------------+-------------+----------+--------------------+--------------------+-------------------------+--------------+\n",
      "|CHEMBL1086582|CHEMBL1086582|      NULL|                NULL|                NULL|                     NULL|Small molecule|\n",
      "|CHEMBL1173055|    RUCAPARIB|      true|{[ENSG00000143799...|{[EFO_0003060, MO...|                      4.0|Small molecule|\n",
      "+-------------+-------------+----------+--------------------+--------------------+-------------------------+--------------+\n",
      "only showing top 2 rows\n"
     ]
    }
   ],
   "source": [
    "# Select fields of interest\n",
    "moleculeSelect = (\n",
    "    molecules.select(\n",
    "        \"id\",\n",
    "        \"name\",\n",
    "        \"isApproved\",\n",
    "        \"linkedTargets\",\n",
    "        \"linkedDiseases\",\n",
    "        'maximumClinicalTrialPhase',\n",
    "        'drugType'\n",
    "    )\n",
    ")\n",
    "moleculeSelect.show(2)"
   ]
  },
  {
   "cell_type": "code",
   "execution_count": 22,
   "metadata": {},
   "outputs": [
    {
     "name": "stderr",
     "output_type": "stream",
     "text": [
      "                                                                                "
     ]
    },
    {
     "name": "stdout",
     "output_type": "stream",
     "text": [
      "5469\n"
     ]
    },
    {
     "data": {
      "text/html": [
       "<div>\n",
       "<style scoped>\n",
       "    .dataframe tbody tr th:only-of-type {\n",
       "        vertical-align: middle;\n",
       "    }\n",
       "\n",
       "    .dataframe tbody tr th {\n",
       "        vertical-align: top;\n",
       "    }\n",
       "\n",
       "    .dataframe thead th {\n",
       "        text-align: right;\n",
       "    }\n",
       "</style>\n",
       "<table border=\"1\" class=\"dataframe\">\n",
       "  <thead>\n",
       "    <tr style=\"text-align: right;\">\n",
       "      <th></th>\n",
       "      <th>drug</th>\n",
       "      <th>drug_name</th>\n",
       "      <th>isApproved</th>\n",
       "      <th>maximumClinicalTrialPhase</th>\n",
       "      <th>drugType</th>\n",
       "      <th>ensembl_id</th>\n",
       "      <th>disease_id</th>\n",
       "      <th>gene_id</th>\n",
       "    </tr>\n",
       "  </thead>\n",
       "  <tbody>\n",
       "    <tr>\n",
       "      <th>0</th>\n",
       "      <td>CHEMBL1234354</td>\n",
       "      <td>PF-04691502</td>\n",
       "      <td>False</td>\n",
       "      <td>2.0</td>\n",
       "      <td>Small molecule</td>\n",
       "      <td>ENSG00000145675</td>\n",
       "      <td>EFO_0003869</td>\n",
       "      <td>PIK3R1</td>\n",
       "    </tr>\n",
       "    <tr>\n",
       "      <th>1</th>\n",
       "      <td>CHEMBL1234354</td>\n",
       "      <td>PF-04691502</td>\n",
       "      <td>False</td>\n",
       "      <td>2.0</td>\n",
       "      <td>Small molecule</td>\n",
       "      <td>ENSG00000145675</td>\n",
       "      <td>MONDO_0007254</td>\n",
       "      <td>PIK3R1</td>\n",
       "    </tr>\n",
       "    <tr>\n",
       "      <th>2</th>\n",
       "      <td>CHEMBL1234354</td>\n",
       "      <td>PF-04691502</td>\n",
       "      <td>False</td>\n",
       "      <td>2.0</td>\n",
       "      <td>Small molecule</td>\n",
       "      <td>ENSG00000145675</td>\n",
       "      <td>MONDO_0004992</td>\n",
       "      <td>PIK3R1</td>\n",
       "    </tr>\n",
       "    <tr>\n",
       "      <th>3</th>\n",
       "      <td>CHEMBL1683544</td>\n",
       "      <td>ERIBULIN MESYLATE</td>\n",
       "      <td>True</td>\n",
       "      <td>4.0</td>\n",
       "      <td>Small molecule</td>\n",
       "      <td>ENSG00000196230</td>\n",
       "      <td>EFO_0003060</td>\n",
       "      <td>TUBB</td>\n",
       "    </tr>\n",
       "    <tr>\n",
       "      <th>4</th>\n",
       "      <td>CHEMBL1683544</td>\n",
       "      <td>ERIBULIN MESYLATE</td>\n",
       "      <td>True</td>\n",
       "      <td>4.0</td>\n",
       "      <td>Small molecule</td>\n",
       "      <td>ENSG00000196230</td>\n",
       "      <td>EFO_0000616</td>\n",
       "      <td>TUBB</td>\n",
       "    </tr>\n",
       "  </tbody>\n",
       "</table>\n",
       "</div>"
      ],
      "text/plain": [
       "            drug          drug_name isApproved  maximumClinicalTrialPhase  \\\n",
       "0  CHEMBL1234354        PF-04691502      False                        2.0   \n",
       "1  CHEMBL1234354        PF-04691502      False                        2.0   \n",
       "2  CHEMBL1234354        PF-04691502      False                        2.0   \n",
       "3  CHEMBL1683544  ERIBULIN MESYLATE       True                        4.0   \n",
       "4  CHEMBL1683544  ERIBULIN MESYLATE       True                        4.0   \n",
       "\n",
       "         drugType       ensembl_id     disease_id gene_id  \n",
       "0  Small molecule  ENSG00000145675    EFO_0003869  PIK3R1  \n",
       "1  Small molecule  ENSG00000145675  MONDO_0007254  PIK3R1  \n",
       "2  Small molecule  ENSG00000145675  MONDO_0004992  PIK3R1  \n",
       "3  Small molecule  ENSG00000196230    EFO_0003060    TUBB  \n",
       "4  Small molecule  ENSG00000196230    EFO_0000616    TUBB  "
      ]
     },
     "execution_count": 22,
     "metadata": {},
     "output_type": "execute_result"
    }
   ],
   "source": [
    "molecule_df = (\n",
    "    moleculeSelect\n",
    "    .toPandas()\n",
    "    .dropna(subset=[\"linkedTargets\", \"linkedDiseases\"])\n",
    "    .assign(ensembl_id=lambda x: x.linkedTargets.apply(\n",
    "        lambda x: x.asDict()['rows']))\n",
    "    .assign(disease_id=lambda x: x.linkedDiseases.apply(\n",
    "        lambda x: x.asDict()['rows']))\n",
    "    .drop(columns=['linkedTargets', 'linkedDiseases'])\n",
    "    .explode('ensembl_id')\n",
    "    .explode('disease_id')\n",
    "    .rename(columns={\n",
    "        \"id\": \"drug\",\n",
    "        \"name\": \"drug_name\"\n",
    "    })\n",
    "    .merge(target_df)\n",
    ")\n",
    "print(len(molecule_df))\n",
    "molecule_df.head()"
   ]
  },
  {
   "cell_type": "code",
   "execution_count": 23,
   "metadata": {},
   "outputs": [],
   "source": [
    "# Merge molecule_df with disease_df on disease_id\n",
    "cancer_associated_drugs = (\n",
    "    molecule_df\n",
    "    .merge(disease_df, on=\"disease_id\")\n",
    ")"
   ]
  },
  {
   "cell_type": "markdown",
   "metadata": {
    "jp-MarkdownHeadingCollapsed": true
   },
   "source": [
    "## Drug Targets"
   ]
  },
  {
   "cell_type": "code",
   "execution_count": 24,
   "metadata": {},
   "outputs": [
    {
     "data": {
      "text/html": [
       "<div>\n",
       "<style scoped>\n",
       "    .dataframe tbody tr th:only-of-type {\n",
       "        vertical-align: middle;\n",
       "    }\n",
       "\n",
       "    .dataframe tbody tr th {\n",
       "        vertical-align: top;\n",
       "    }\n",
       "\n",
       "    .dataframe thead th {\n",
       "        text-align: right;\n",
       "    }\n",
       "</style>\n",
       "<table border=\"1\" class=\"dataframe\">\n",
       "  <thead>\n",
       "    <tr style=\"text-align: right;\">\n",
       "      <th></th>\n",
       "      <th>type</th>\n",
       "      <th>targets</th>\n",
       "      <th>cancer targets</th>\n",
       "    </tr>\n",
       "  </thead>\n",
       "  <tbody>\n",
       "    <tr>\n",
       "      <th>0</th>\n",
       "      <td>bctPcand</td>\n",
       "      <td>25</td>\n",
       "      <td>16</td>\n",
       "    </tr>\n",
       "    <tr>\n",
       "      <th>1</th>\n",
       "      <td>bctNcand</td>\n",
       "      <td>3</td>\n",
       "      <td>2</td>\n",
       "    </tr>\n",
       "  </tbody>\n",
       "</table>\n",
       "</div>"
      ],
      "text/plain": [
       "       type  targets  cancer targets\n",
       "0  bctPcand       25              16\n",
       "1  bctNcand        3               2"
      ]
     },
     "metadata": {},
     "output_type": "display_data"
    }
   ],
   "source": [
    "drugtargets = pd.merge(\n",
    "    molecule_df.groupby(\"gene_id\")[\"drug\"].nunique().rename(\"n_drugs\"),\n",
    "    cancer_associated_drugs.groupby(\"gene_id\")[\"drug\"].nunique().rename(\"n_cancerdrugs\"),\n",
    "    left_index=True, right_index=True, how=\"left\"\n",
    ").fillna(0).astype(int)\n",
    "\n",
    "stats = []\n",
    "for label, df in zip([\"bctPcand\", \"bctNcand\"], [positive, negative]):\n",
    "    targets = (\n",
    "        df\n",
    "        .merge(drugtargets, left_on=\"gene\", right_index=True, how=\"left\")\n",
    "        .fillna(0)\n",
    "        .assign(\n",
    "            drugtarget=lambda x: x.n_drugs.astype(bool),\n",
    "            cancer_drugtarget=lambda x: (\n",
    "                x.n_drugs.astype(bool) & x.n_cancerdrugs.astype(bool)\n",
    "            ),\n",
    "            opentargets=lambda x: (\n",
    "                x.drugtarget.astype(int) + x.cancer_drugtarget.astype(int)\n",
    "            ).map({\n",
    "                0: \"Not Target\",\n",
    "                1: \"Target (Not Cancer)\",\n",
    "                2: \"Target (Cancer)\"\n",
    "            })\n",
    "        )\n",
    "        .drop(columns=[\"n_drugs\", \"n_cancerdrugs\", \"drugtarget\", \"cancer_drugtarget\"])\n",
    "    )\n",
    "    stats.append({\n",
    "        \"type\": label,\n",
    "        \"targets\": len(targets[targets.opentargets!=\"Not Target\"]),\n",
    "        \"cancer targets\": len(targets[targets.opentargets==\"Target (Cancer)\"]),\n",
    "    })\n",
    "    targets.to_csv(processeddata+f\"{label}.csv\", index=False)\n",
    "stats = pd.DataFrame(stats)\n",
    "display(stats)"
   ]
  },
  {
   "cell_type": "code",
   "execution_count": 25,
   "metadata": {},
   "outputs": [
    {
     "name": "stdout",
     "output_type": "stream",
     "text": [
      "10\n"
     ]
    }
   ],
   "source": [
    "# Proteins without drugs with an association with cancer\n",
    "# Drugs that can be used for drug repurposing\n",
    "drug_repurposing = (\n",
    "    molecule_df\n",
    "    .groupby(\"gene_id\")\n",
    "    # Add cancer and neoplasm ids and descendant diseases to exclude drugs with those associations\n",
    "    .filter(lambda x: x.disease_id.isin(\n",
    "        disease_df.disease_id.tolist() + [\"EFO_0000616\"]).sum() == 0)\n",
    "    .groupby(\"gene_id\")[\"drug\"]\n",
    "    .nunique()\n",
    ")\n",
    "print(len(drug_repurposing))"
   ]
  },
  {
   "cell_type": "code",
   "execution_count": 26,
   "metadata": {},
   "outputs": [],
   "source": [
    "molecule_df.to_csv(processeddata+\"molecule_target_disease_association.csv\", index=False)"
   ]
  },
  {
   "cell_type": "markdown",
   "metadata": {},
   "source": [
    "## Summary"
   ]
  },
  {
   "cell_type": "code",
   "execution_count": 27,
   "metadata": {},
   "outputs": [],
   "source": [
    "positive = pd.read_csv(processeddata+\"bctPcand.csv\")\n",
    "negative = pd.read_csv(processeddata+\"bctNcand.csv\")"
   ]
  },
  {
   "cell_type": "code",
   "execution_count": 28,
   "metadata": {},
   "outputs": [
    {
     "name": "stdout",
     "output_type": "stream",
     "text": [
      "# positive non-driver neighbours which are known drug targets:  18\n",
      "# negative non-driver neighbours which are known drug targets :  1\n",
      "# positive neighbours which are targeted by cancer drugs:  16\n",
      "# negative neighbours which are targeted by cancer drugs:  2\n",
      "# positive neighbours which are targeted by non-cancer drugs:  9\n",
      "# negative neighbours which are targeted by non-cancer drugs:  1\n",
      "['E2F1', 'LAMA3', 'MIF', 'RPL28', 'RPL35', 'RPL7A', 'RPLP0', 'RPS15A', 'RPS21']\n",
      "['CX3CL1']\n"
     ]
    }
   ],
   "source": [
    "print(\"# positive non-driver neighbours which are known drug targets: \",\n",
    "      len(positive[(~positive.driver.astype(bool)) & (positive.opentargets!=\"Not Target\")]))\n",
    "print(\"# negative non-driver neighbours which are known drug targets : \",\n",
    "      len(negative[(~negative.driver.astype(bool)) & (negative.opentargets!=\"Not Target\")]))\n",
    "print(\"# positive neighbours which are targeted by cancer drugs: \",\n",
    "      len(positive[(positive.opentargets==\"Target (Cancer)\")]))\n",
    "print(\"# negative neighbours which are targeted by cancer drugs: \",\n",
    "      len(negative[(negative.opentargets==\"Target (Cancer)\")]))\n",
    "print(\"# positive neighbours which are targeted by non-cancer drugs: \",\n",
    "      len(positive[(positive.opentargets==\"Target (Not Cancer)\")]))\n",
    "print(\"# negative neighbours which are targeted by non-cancer drugs: \",\n",
    "      len(negative[(negative.opentargets==\"Target (Not Cancer)\")]))\n",
    "print(positive.loc[(positive.opentargets==\"Target (Not Cancer)\"), \"gene\"].tolist())\n",
    "print(negative.loc[(negative.opentargets==\"Target (Not Cancer)\"), \"gene\"].tolist())"
   ]
  },
  {
   "cell_type": "markdown",
   "metadata": {},
   "source": [
    "We found that 28 of our candidate neighbours (25 neighbours enriched in positive driver and survival associations and 3 enriched in negative driver and survival associations, supplementary tables 1 and 2) are known drug targets. 18 are targeted by drugs developed for cancer treatment, confirming the therapeutic potential of neighbours enriched in driver associations. Interestingly, 10 neighbours are targeted only by drugs for non-cancer diseases, suggesting an opportunity for drug repurposing."
   ]
  }
 ],
 "metadata": {
  "kernelspec": {
   "display_name": "Python 3 (ipykernel)",
   "language": "python",
   "name": "python3"
  },
  "language_info": {
   "codemirror_mode": {
    "name": "ipython",
    "version": 3
   },
   "file_extension": ".py",
   "mimetype": "text/x-python",
   "name": "python",
   "nbconvert_exporter": "python",
   "pygments_lexer": "ipython3",
   "version": "3.12.11"
  }
 },
 "nbformat": 4,
 "nbformat_minor": 4
}
